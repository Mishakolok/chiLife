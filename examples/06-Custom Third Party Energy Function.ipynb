{
 "cells": [
  {
   "cell_type": "code",
   "execution_count": null,
   "metadata": {},
   "outputs": [],
   "source": [
    "from xtb.interface import Calculator, Param, Solvent\n",
    "import periodictable as pt\n",
    "from scipy.constants import physical_constants\n",
    "\n",
    "\n",
    "ANGST_IN_BOHR = physical_constants['Bohr radius'][0] * 1.0e10\n",
    "\n",
    "def xtb_energy(protein, rotlib):\n",
    "    coords = protein.atoms.positions[~rotlib.clash_ignore_idx]\n",
    "    coords = np.concatenate([coords, rotlib.coords[0]])\n",
    "    \n",
    "    elements = protein.atoms.types[~rotlib.clash_ignore_idx]\n",
    "    elements = np.concatenate([elements, rotlib.atom_types])\n",
    "\n",
    "    atom_numbers = np.array([getattr(pt, e).number for e in elements])\n",
    "\n",
    "    xtb_calculator = Calculator(Param.GFN2xTB, atom_numbers, coords / ANGST_IN_BOHR, uhf=1, charge=)\n",
    "    xtb_calculator.set_solvent(Solvent.h2o)\n",
    "\n",
    "    # Claculate energy of each state\n",
    "    E = []\n",
    "    for rot in rotlib.coords:\n",
    "        coords[-len(rot):] = rot\n",
    "        xtb_calculator.update(coords/ANGST_IN_BOHR)\n",
    "        E.append(xtb_calculator.singlepoint().get_energy())\n",
    "        \n",
    "    # Convert to kcal/mol and reduce to relative difference in energy\n",
    "    E = np.array(E) * 630\n",
    "    E -= min(E)\n",
    "    \n",
    "    \n",
    "    return E"
   ]
  }
 ],
 "metadata": {
  "kernelspec": {
   "display_name": "Python310",
   "language": "python",
   "name": "python310"
  },
  "language_info": {
   "codemirror_mode": {
    "name": "ipython",
    "version": 3
   },
   "file_extension": ".py",
   "mimetype": "text/x-python",
   "name": "python",
   "nbconvert_exporter": "python",
   "pygments_lexer": "ipython3",
   "version": "3.10.4"
  }
 },
 "nbformat": 4,
 "nbformat_minor": 4
}
